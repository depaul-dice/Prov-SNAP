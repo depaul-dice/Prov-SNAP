{
 "cells": [
  {
   "cell_type": "code",
   "execution_count": 1,
   "metadata": {
    "collapsed": true
   },
   "outputs": [],
   "source": [
    "import csv\n",
    "from graphviz import Digraph"
   ]
  },
  {
   "cell_type": "code",
   "execution_count": 2,
   "metadata": {
    "collapsed": true
   },
   "outputs": [],
   "source": [
    "class Vertex:\n",
    "    def __init__(self, num, attributes):\n",
    "        self.num = num\n",
    "        self.attributes = attributes\n",
    "        self.toVertices = []\n",
    "        self.fromVertices = []\n",
    "        self.group = None\n",
    "        self.groupnext = None\n",
    "        self.groupprev = None\n",
    "        self.lastdividenum = -1\n",
    "class Group:\n",
    "    def __init__(self, num):\n",
    "        self.num = num\n",
    "        self.vertexList = None               \n",
    "        self.isinlist = False\n",
    "        self.divideGroup = None\n",
    "        self.divideNum = None\n"
   ]
  },
  {
   "cell_type": "code",
   "execution_count": 3,
   "metadata": {
    "collapsed": true
   },
   "outputs": [],
   "source": [
    "def getInputType1(vfile,efile,id1): #Eg: files in studentTestData\n",
    "    \n",
    "    #Vertices\n",
    "    with open(vfile, 'r') as f:\n",
    "        reader = csv.reader(f)\n",
    "        vlist = list(reader)\n",
    "    print(vlist)\n",
    "    allAttr = {}\n",
    "    allIds = {}\n",
    "    for i in range(len(vlist[0])):\n",
    "        allAttr[vlist[0][i]]=i\n",
    "    if id1 not in allAttr:\n",
    "        print(id1, 'not found')\n",
    "        return\n",
    "    else:\n",
    "        idcol = allAttr[id1]\n",
    "    V = []\n",
    "    for i in range(1,len(vlist)):\n",
    "        if len(vlist[i])==len(vlist[0]):\n",
    "            allIds[vlist[i][idcol]]=i-1\n",
    "            V.append(Vertex(i-1,vlist[i]))\n",
    "    \n",
    "    \n",
    "    #Edges\n",
    "    with open(efile, 'r') as f:\n",
    "        reader = csv.reader(f)\n",
    "        elist = list(reader)\n",
    "    print(elist)\n",
    "    #for i in range(len(elist[0])):\n",
    "    col = [allIds[v] if v in allIds else None for v in elist[0]]\n",
    "    for row in elist[1:]:\n",
    "        if len(row)>0:\n",
    "            v = allIds[row[0]]\n",
    "            for i in range(1,len(row)):\n",
    "                if row[i]=='1':\n",
    "                    V[v].toVertices.append(col[i])\n",
    "                    V[col[i]].fromVertices.append(v)\n",
    "    '''\n",
    "    for v in V:\n",
    "        print(v.num)\n",
    "        for v2 in v.fromVertices:\n",
    "            print('\\t',v2)\n",
    "        for v2 in v.toVertices:\n",
    "            print('\\t\\t',v2)\n",
    "    '''\n",
    "    return V,allAttr\n",
    "            "
   ]
  },
  {
   "cell_type": "code",
   "execution_count": 4,
   "metadata": {},
   "outputs": [
    {
     "name": "stdout",
     "output_type": "stream",
     "text": [
      "[['Vertex', 'Type', 'ID', 'Department', 'Gender'], ['v1', 'Student', '1', 'CS', 'Male'], ['v2', 'Student', '2', 'CS', 'Male'], ['v3', 'Student', '3', 'CS', 'Female'], ['v4', 'Student', '4', 'Booth', 'Male'], ['v5', 'Student', '5', 'Booth', 'Male'], ['v6', 'Student', '6', 'Booth', 'Female'], ['v7', 'Student', '7', 'Booth', 'Male'], ['v8', 'Student', '8', 'Booth', 'Male']]\n",
      "[['', 'v1', 'v2', 'v3', 'v4', 'v5', 'v6', 'v7', 'v8'], ['v1', '', '', '', '', '', '1', '', ''], ['v2', '', '', '', '', '', '', '', ''], ['v3', '', '', '', '1', '1', '', '', ''], ['v4', '', '', '1', '', '1', '', '', ''], ['v5', '', '', '1', '1', '', '1', '', ''], ['v6', '1', '', '', '', '1', '', '1', '1'], ['v7', '', '', '', '', '', '1', '', ''], ['v8', '', '', '', '', '', '1', '', '']]\n"
     ]
    }
   ],
   "source": [
    "V,allAttr = getInputType1('studentTestData/graph.csv','studentTestData/Relation.csv','Vertex')\n",
    "attr =['Department']#,'Gender']\n"
   ]
  },
  {
   "cell_type": "code",
   "execution_count": 5,
   "metadata": {
    "collapsed": true
   },
   "outputs": [],
   "source": [
    "def getAComp(V,allAttr,attr):\n",
    "    attr1 = [allAttr[a] for a in attr]\n",
    "    Vs = sorted(V, key= lambda v : [v.attributes[i] for i in attr1])\n",
    "    attrVal = None\n",
    "    G = []\n",
    "    for j in range(len(Vs)):\n",
    "        if [Vs[j].attributes[i] for i in attr1]==attrVal:\n",
    "            gnum = len(G)-1\n",
    "            Vs[j].group = G[gnum]\n",
    "            Vs[j].groupnext = G[gnum].vertexList\n",
    "            if G[gnum].vertexList!=None:\n",
    "                G[gnum].vertexList.groupprev = Vs[j]\n",
    "            G[gnum].vertexList = Vs[j]\n",
    "        else:\n",
    "            gnum = len(G)\n",
    "            G.append(Group(gnum))\n",
    "            Vs[j].group = G[gnum]\n",
    "            G[gnum].vertexList = Vs[j]\n",
    "            attrVal = [Vs[j].attributes[i] for i in attr1]\n",
    "    return(G)"
   ]
  },
  {
   "cell_type": "code",
   "execution_count": 6,
   "metadata": {
    "collapsed": true
   },
   "outputs": [],
   "source": [
    "def SNAP(V,allAttr,attr):\n",
    "    G = getAComp(V,allAttr,attr)\n",
    "    glist = None\n",
    "    for g in G:\n",
    "        glist = (g,glist)\n",
    "        g.isinlist = True\n",
    "    \n",
    "    divideNum = 0\n",
    "    gnum = len(G)\n",
    "    while glist!=None:\n",
    "        g = glist[0]\n",
    "        glist = glist[1]\n",
    "        g.isinlist = False\n",
    "        \n",
    "        gvlist = None\n",
    "        v = g.vertexList\n",
    "        while v!=None:\n",
    "            gvlist = (v,gvlist)\n",
    "            v = v.groupnext\n",
    "        \n",
    "        \n",
    "        #divide using 'fromVertices' of g\n",
    "        \n",
    "        divideNum+=1\n",
    "        dividelist=None\n",
    "        \n",
    "        gv = gvlist\n",
    "        while gv!=None:\n",
    "            v = gv[0]\n",
    "            gv = gv[1]\n",
    "            for v2num in v.fromVertices:\n",
    "                v2 = V[v2num]\n",
    "                if v2.lastdividenum!=divideNum:\n",
    "                    g2 = v2.group\n",
    "                    #Make new group if not exists\n",
    "                    if g2.divideNum!=divideNum:\n",
    "                        dividelist = (g2,dividelist)\n",
    "                        G.append(Group(gnum))\n",
    "                        g2.divideGroup = G[gnum]\n",
    "                        g2.divideNum = divideNum\n",
    "                        gnum+=1\n",
    "                    g3 = g2.divideGroup\n",
    "                    #Remove from Previous Group\n",
    "                    if v2.groupprev==None:\n",
    "                        g2.vertexList = v2.groupnext\n",
    "                    else:\n",
    "                        v2.groupprev.groupnext = v2.groupnext\n",
    "                    if v2.groupnext!=None:\n",
    "                        v2.groupnext.groupprev = v2.groupprev\n",
    "                    #Add to new group\n",
    "                    v2.group = g3\n",
    "                    if g3.vertexList!=None:\n",
    "                        g3.vertexList.groupprev = v2\n",
    "                    v2.groupnext = g3.vertexList\n",
    "                    v2.groupprev = None\n",
    "                    g3.vertexList = v2\n",
    "                    v2.lastdividenum = divideNum\n",
    "        #Add groups to glist\n",
    "        while dividelist!=None:\n",
    "            g2 = dividelist[0]\n",
    "            dividelist=dividelist[1]\n",
    "            if g2.vertexList!=None:\n",
    "                if not g2.isinlist:\n",
    "                    g2.isinlist=True\n",
    "                    glist = (g2,glist)\n",
    "                g3 = g2.divideGroup\n",
    "                g3.isinlist = True\n",
    "                glist = (g3,glist)\n",
    "            elif g2.isinlist:\n",
    "                glist = (g2.divideGroup,glist)\n",
    "                g2.divideGroup.isinlist=True\n",
    "        \n",
    "        #Check if g got divided\n",
    "        if g.divideNum == divideNum:\n",
    "            if g.vertexList==None:\n",
    "                g = g.divideGroup\n",
    "            else:\n",
    "                continue\n",
    "        \n",
    "        #divide using 'toVertices' of g\n",
    "        \n",
    "        divideNum+=1\n",
    "        dividelist=None\n",
    "        \n",
    "        gv = gvlist\n",
    "        while gv!=None:\n",
    "            v = gv[0]\n",
    "            gv = gv[1]\n",
    "            for v2num in v.toVertices:\n",
    "                v2 = V[v2num]\n",
    "                if v2.lastdividenum!=divideNum:\n",
    "                    g2 = v2.group\n",
    "                    #Make new group if not exists\n",
    "                    if g2.divideNum!=divideNum:\n",
    "                        dividelist = (g2,dividelist)\n",
    "                        G.append(Group(gnum))\n",
    "                        g2.divideGroup = G[gnum]\n",
    "                        g2.divideNum = divideNum\n",
    "                        gnum+=1\n",
    "                    g3 = g2.divideGroup\n",
    "                    #Remove from Previous Group\n",
    "                    if v2.groupprev==None:\n",
    "                        g2.vertexList = v2.groupnext\n",
    "                    else:\n",
    "                        v2.groupprev.groupnext = v2.groupnext\n",
    "                    if v2.groupnext!=None:\n",
    "                        v2.groupnext.groupprev = v2.groupprev\n",
    "                    #Add to new group\n",
    "                    v2.group = g3\n",
    "                    if g3.vertexList!=None:\n",
    "                        g3.vertexList.groupprev = v2\n",
    "                    v2.groupnext = g3.vertexList\n",
    "                    v2.groupprev = None\n",
    "                    g3.vertexList = v2\n",
    "                    v2.lastdividenum = divideNum\n",
    "        #Add groups to glist\n",
    "        while dividelist!=None:\n",
    "            g2 = dividelist[0]\n",
    "            dividelist=dividelist[1]\n",
    "            if g2.vertexList!=None:\n",
    "                if not g2.isinlist:\n",
    "                    g2.isinlist=True\n",
    "                    glist = (g2,glist)\n",
    "                g3 = g2.divideGroup\n",
    "                g3.isinlist = True\n",
    "                glist = (g3,glist)\n",
    "            elif g2.isinlist:\n",
    "                glist = (g2.divideGroup,glist)\n",
    "                g2.divideGroup.isinlist=True\n",
    "        "
   ]
  },
  {
   "cell_type": "code",
   "execution_count": 7,
   "metadata": {},
   "outputs": [
    {
     "name": "stdout",
     "output_type": "stream",
     "text": [
      "[(1, 1), (0, 17), (6, 19), (7, 19), (5, 27), (3, 30), (2, 34), (4, 35)]\n"
     ]
    }
   ],
   "source": [
    "SNAP(V,allAttr,attr)\n",
    "print(sorted([(v.num,v.group.num) for v in V],key=lambda v: v[1]))"
   ]
  },
  {
   "cell_type": "code",
   "execution_count": 8,
   "metadata": {},
   "outputs": [
    {
     "data": {
      "text/plain": [
       "'testOutput/Graph1.pdf'"
      ]
     },
     "execution_count": 8,
     "metadata": {},
     "output_type": "execute_result"
    }
   ],
   "source": [
    "dot1 = Digraph(comment='Graph1')\n",
    "\n",
    "glist = {}\n",
    "colors = ['red','blue','green','yellow','cyan','magenta','Purple','grey','tan','SeaGreen',\n",
    "          'chocolate','salmon','YellowGreen','Lavender','Olive','Orange','Violet','PeachPuff']\n",
    "for k in range(len(V)):\n",
    "    if V[k].group.num not in glist:\n",
    "        glist[V[k].group.num]=len(glist)\n",
    "    i = glist[V[k].group.num]\n",
    "    color = colors[i if i<len(colors) else len(colors)-1]\n",
    "    \n",
    "    dot1.node(str(V[k].num),str(V[k].attributes),color = color,style='filled')\n",
    "    for j in V[k].toVertices:\n",
    "        dot1.edge(str(V[k].num),str(j))\n",
    "\n",
    "dot1.render('testOutput/Graph1')"
   ]
  },
  {
   "cell_type": "code",
   "execution_count": null,
   "metadata": {
    "collapsed": true
   },
   "outputs": [],
   "source": []
  },
  {
   "cell_type": "code",
   "execution_count": null,
   "metadata": {
    "collapsed": true
   },
   "outputs": [],
   "source": []
  }
 ],
 "metadata": {
  "kernelspec": {
   "display_name": "Python 3",
   "language": "python",
   "name": "python3"
  },
  "language_info": {
   "codemirror_mode": {
    "name": "ipython",
    "version": 3
   },
   "file_extension": ".py",
   "mimetype": "text/x-python",
   "name": "python",
   "nbconvert_exporter": "python",
   "pygments_lexer": "ipython3",
   "version": "3.5.2"
  }
 },
 "nbformat": 4,
 "nbformat_minor": 2
}
